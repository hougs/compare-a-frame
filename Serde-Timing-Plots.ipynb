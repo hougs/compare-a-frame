{
 "cells": [
  {
   "cell_type": "code",
   "execution_count": 1,
   "metadata": {},
   "outputs": [],
   "source": [
    "%matplotlib inline\n",
    "import pandas as pd\n",
    "import seaborn as sns\n",
    "import matplotlib.pyplot as plt"
   ]
  },
  {
   "cell_type": "code",
   "execution_count": 2,
   "metadata": {},
   "outputs": [],
   "source": [
    "performance = pd.read_csv(\"data/performance.csv\")"
   ]
  },
  {
   "cell_type": "code",
   "execution_count": 3,
   "metadata": {},
   "outputs": [
    {
     "data": {
      "text/html": [
       "<div>\n",
       "<style scoped>\n",
       "    .dataframe tbody tr th:only-of-type {\n",
       "        vertical-align: middle;\n",
       "    }\n",
       "\n",
       "    .dataframe tbody tr th {\n",
       "        vertical-align: top;\n",
       "    }\n",
       "\n",
       "    .dataframe thead th {\n",
       "        text-align: right;\n",
       "    }\n",
       "</style>\n",
       "<table border=\"1\" class=\"dataframe\">\n",
       "  <thead>\n",
       "    <tr style=\"text-align: right;\">\n",
       "      <th></th>\n",
       "      <th>rows</th>\n",
       "      <th>mode</th>\n",
       "      <th>load_time</th>\n",
       "      <th>cpu_percent</th>\n",
       "      <th>size</th>\n",
       "    </tr>\n",
       "  </thead>\n",
       "  <tbody>\n",
       "    <tr>\n",
       "      <th>0</th>\n",
       "      <td>100000</td>\n",
       "      <td>parquet</td>\n",
       "      <td>0.012878</td>\n",
       "      <td>0.0</td>\n",
       "      <td>1227135</td>\n",
       "    </tr>\n",
       "    <tr>\n",
       "      <th>1</th>\n",
       "      <td>100000</td>\n",
       "      <td>pickle.gzip</td>\n",
       "      <td>0.006120</td>\n",
       "      <td>0.0</td>\n",
       "      <td>152390</td>\n",
       "    </tr>\n",
       "    <tr>\n",
       "      <th>2</th>\n",
       "      <td>100000</td>\n",
       "      <td>parquet</td>\n",
       "      <td>0.012311</td>\n",
       "      <td>0.0</td>\n",
       "      <td>1227135</td>\n",
       "    </tr>\n",
       "    <tr>\n",
       "      <th>3</th>\n",
       "      <td>100000</td>\n",
       "      <td>msgpack</td>\n",
       "      <td>0.006454</td>\n",
       "      <td>0.0</td>\n",
       "      <td>1000455</td>\n",
       "    </tr>\n",
       "    <tr>\n",
       "      <th>4</th>\n",
       "      <td>100000</td>\n",
       "      <td>HD5</td>\n",
       "      <td>0.014127</td>\n",
       "      <td>18.2</td>\n",
       "      <td>2860440</td>\n",
       "    </tr>\n",
       "  </tbody>\n",
       "</table>\n",
       "</div>"
      ],
      "text/plain": [
       "     rows         mode  load_time  cpu_percent     size\n",
       "0  100000      parquet   0.012878          0.0  1227135\n",
       "1  100000  pickle.gzip   0.006120          0.0   152390\n",
       "2  100000      parquet   0.012311          0.0  1227135\n",
       "3  100000      msgpack   0.006454          0.0  1000455\n",
       "4  100000          HD5   0.014127         18.2  2860440"
      ]
     },
     "execution_count": 3,
     "metadata": {},
     "output_type": "execute_result"
    }
   ],
   "source": [
    "performance.head()"
   ]
  },
  {
   "cell_type": "code",
   "execution_count": 4,
   "metadata": {},
   "outputs": [
    {
     "data": {
      "text/html": [
       "<div>\n",
       "<style scoped>\n",
       "    .dataframe tbody tr th:only-of-type {\n",
       "        vertical-align: middle;\n",
       "    }\n",
       "\n",
       "    .dataframe tbody tr th {\n",
       "        vertical-align: top;\n",
       "    }\n",
       "\n",
       "    .dataframe thead th {\n",
       "        text-align: right;\n",
       "    }\n",
       "</style>\n",
       "<table border=\"1\" class=\"dataframe\">\n",
       "  <thead>\n",
       "    <tr style=\"text-align: right;\">\n",
       "      <th></th>\n",
       "      <th>rows</th>\n",
       "      <th>mode</th>\n",
       "      <th>load_time</th>\n",
       "      <th>cpu_percent</th>\n",
       "      <th>size</th>\n",
       "      <th>load_time_per_row</th>\n",
       "      <th>size_per_row</th>\n",
       "    </tr>\n",
       "  </thead>\n",
       "  <tbody>\n",
       "    <tr>\n",
       "      <th>0</th>\n",
       "      <td>100000</td>\n",
       "      <td>parquet</td>\n",
       "      <td>0.012878</td>\n",
       "      <td>0.0</td>\n",
       "      <td>1227135</td>\n",
       "      <td>1.287755e-07</td>\n",
       "      <td>0.00144</td>\n",
       "    </tr>\n",
       "    <tr>\n",
       "      <th>1</th>\n",
       "      <td>100000</td>\n",
       "      <td>pickle.gzip</td>\n",
       "      <td>0.006120</td>\n",
       "      <td>0.0</td>\n",
       "      <td>152390</td>\n",
       "      <td>6.119748e-08</td>\n",
       "      <td>0.00144</td>\n",
       "    </tr>\n",
       "    <tr>\n",
       "      <th>2</th>\n",
       "      <td>100000</td>\n",
       "      <td>parquet</td>\n",
       "      <td>0.012311</td>\n",
       "      <td>0.0</td>\n",
       "      <td>1227135</td>\n",
       "      <td>1.231064e-07</td>\n",
       "      <td>0.00144</td>\n",
       "    </tr>\n",
       "    <tr>\n",
       "      <th>3</th>\n",
       "      <td>100000</td>\n",
       "      <td>msgpack</td>\n",
       "      <td>0.006454</td>\n",
       "      <td>0.0</td>\n",
       "      <td>1000455</td>\n",
       "      <td>6.453588e-08</td>\n",
       "      <td>0.00144</td>\n",
       "    </tr>\n",
       "    <tr>\n",
       "      <th>4</th>\n",
       "      <td>100000</td>\n",
       "      <td>HD5</td>\n",
       "      <td>0.014127</td>\n",
       "      <td>18.2</td>\n",
       "      <td>2860440</td>\n",
       "      <td>1.412691e-07</td>\n",
       "      <td>0.00144</td>\n",
       "    </tr>\n",
       "  </tbody>\n",
       "</table>\n",
       "</div>"
      ],
      "text/plain": [
       "     rows         mode  load_time  cpu_percent     size  load_time_per_row  \\\n",
       "0  100000      parquet   0.012878          0.0  1227135       1.287755e-07   \n",
       "1  100000  pickle.gzip   0.006120          0.0   152390       6.119748e-08   \n",
       "2  100000      parquet   0.012311          0.0  1227135       1.231064e-07   \n",
       "3  100000      msgpack   0.006454          0.0  1000455       6.453588e-08   \n",
       "4  100000          HD5   0.014127         18.2  2860440       1.412691e-07   \n",
       "\n",
       "   size_per_row  \n",
       "0       0.00144  \n",
       "1       0.00144  \n",
       "2       0.00144  \n",
       "3       0.00144  \n",
       "4       0.00144  "
      ]
     },
     "execution_count": 4,
     "metadata": {},
     "output_type": "execute_result"
    }
   ],
   "source": [
    "normalized_perf = performance\n",
    "normalized_perf['load_time_per_row'] = performance.load_time / performance.rows\n",
    "normalized_perf['size_per_row'] = performance.size / performance.rows\n",
    "normalized_perf.head()"
   ]
  },
  {
   "cell_type": "code",
   "execution_count": 5,
   "metadata": {},
   "outputs": [
    {
     "data": {
      "image/png": "[encoded data removed]",
      "text/plain": [
       "<matplotlib.figure.Figure at 0x10bcd9240>"
      ]
     },
     "metadata": {},
     "output_type": "display_data"
    }
   ],
   "source": [
    "g = sns.factorplot(x=\"size\", y=\"load_time\", col=\"rows\",\n",
    "                    data=performance, hue='mode', saturation=.5,\n",
    "                    kind=\"point\", ci=None, aspect=.6, sharex=False, sharey=False)"
   ]
  },
  {
   "cell_type": "code",
   "execution_count": 6,
   "metadata": {},
   "outputs": [
    {
     "data": {
      "text/plain": [
       "<seaborn.axisgrid.PairGrid at 0x106ee34a8>"
      ]
     },
     "execution_count": 6,
     "metadata": {},
     "output_type": "execute_result"
    },
    {
     "data": {
      "image/png": "[encoded data removed]",
      "text/plain": [
       "<matplotlib.figure.Figure at 0x107022128>"
      ]
     },
     "metadata": {},
     "output_type": "display_data"
    }
   ],
   "source": [
    "sns.pairplot(normalized_perf[['size_per_row', 'load_time_per_row', 'mode']], hue='mode')"
   ]
  },
  {
   "cell_type": "code",
   "execution_count": 7,
   "metadata": {},
   "outputs": [],
   "source": [
    "real_perf = pd.read_csv(\"data/real_performance.csv\")"
   ]
  },
  {
   "cell_type": "code",
   "execution_count": 9,
   "metadata": {},
   "outputs": [
    {
     "data": {
      "text/html": [
       "<div>\n",
       "<style scoped>\n",
       "    .dataframe tbody tr th:only-of-type {\n",
       "        vertical-align: middle;\n",
       "    }\n",
       "\n",
       "    .dataframe tbody tr th {\n",
       "        vertical-align: top;\n",
       "    }\n",
       "\n",
       "    .dataframe thead th {\n",
       "        text-align: right;\n",
       "    }\n",
       "</style>\n",
       "<table border=\"1\" class=\"dataframe\">\n",
       "  <thead>\n",
       "    <tr style=\"text-align: right;\">\n",
       "      <th></th>\n",
       "      <th>file_name</th>\n",
       "      <th>mode</th>\n",
       "      <th>load_time</th>\n",
       "      <th>cpu_percent</th>\n",
       "      <th>size</th>\n",
       "    </tr>\n",
       "  </thead>\n",
       "  <tbody>\n",
       "    <tr>\n",
       "      <th>0</th>\n",
       "      <td>file_w_12cols_3Mrows</td>\n",
       "      <td>parquet</td>\n",
       "      <td>3.149990</td>\n",
       "      <td>13.6</td>\n",
       "      <td>16663297</td>\n",
       "    </tr>\n",
       "    <tr>\n",
       "      <th>1</th>\n",
       "      <td>file_w_12cols_3Mrows</td>\n",
       "      <td>msgpack</td>\n",
       "      <td>3.163830</td>\n",
       "      <td>14.3</td>\n",
       "      <td>290980635</td>\n",
       "    </tr>\n",
       "    <tr>\n",
       "      <th>2</th>\n",
       "      <td>file_w_12cols_3Mrows</td>\n",
       "      <td>HD5</td>\n",
       "      <td>11.254267</td>\n",
       "      <td>18.6</td>\n",
       "      <td>545296720</td>\n",
       "    </tr>\n",
       "    <tr>\n",
       "      <th>3</th>\n",
       "      <td>file_w_12cols_3Mrows</td>\n",
       "      <td>feather</td>\n",
       "      <td>2.101901</td>\n",
       "      <td>13.1</td>\n",
       "      <td>365702744</td>\n",
       "    </tr>\n",
       "    <tr>\n",
       "      <th>4</th>\n",
       "      <td>file_w_12cols_3Mrows</td>\n",
       "      <td>pickle.gzip</td>\n",
       "      <td>324.434662</td>\n",
       "      <td>18.0</td>\n",
       "      <td>55683418</td>\n",
       "    </tr>\n",
       "  </tbody>\n",
       "</table>\n",
       "</div>"
      ],
      "text/plain": [
       "              file_name         mode   load_time  cpu_percent       size\n",
       "0  file_w_12cols_3Mrows      parquet    3.149990         13.6   16663297\n",
       "1  file_w_12cols_3Mrows      msgpack    3.163830         14.3  290980635\n",
       "2  file_w_12cols_3Mrows          HD5   11.254267         18.6  545296720\n",
       "3  file_w_12cols_3Mrows      feather    2.101901         13.1  365702744\n",
       "4  file_w_12cols_3Mrows  pickle.gzip  324.434662         18.0   55683418"
      ]
     },
     "execution_count": 9,
     "metadata": {},
     "output_type": "execute_result"
    }
   ],
   "source": [
    "real_perf.head()"
   ]
  },
  {
   "cell_type": "code",
   "execution_count": 8,
   "metadata": {},
   "outputs": [
    {
     "data": {
      "text/plain": [
       "Text(39.3667,0.5,'load_time')"
      ]
     },
     "execution_count": 8,
     "metadata": {},
     "output_type": "execute_result"
    },
    {
     "data": {
      "image/png": "[encoded data removed]",
      "text/plain": [
       "<matplotlib.figure.Figure at 0x10c7e3668>"
      ]
     },
     "metadata": {},
     "output_type": "display_data"
    }
   ],
   "source": [
    "sns.set_context(\"notebook\", font_scale=1.1)\n",
    "sns.set_style(\"ticks\")\n",
    "\n",
    "# Create scatterplot of dataframe\n",
    "sns.lmplot('size', # Horizontal axis\n",
    "           'load_time', # Vertical axis\n",
    "           data=real_perf, # Data source\n",
    "           fit_reg=False, # Don't fix a regression line\n",
    "           hue=\"mode\", # Set color\n",
    "           scatter_kws={\"marker\": \"D\", # Set marker style\n",
    "                        \"s\": 100}) # S marker size\n",
    "\n",
    "# Set title\n",
    "plt.title('Real Performance')\n",
    "\n",
    "# Set x-axis label\n",
    "plt.xlabel('size')\n",
    "\n",
    "# Set y-axis label\n",
    "plt.ylabel('load_time')"
   ]
  },
  {
   "cell_type": "code",
   "execution_count": null,
   "metadata": {},
   "outputs": [],
   "source": []
  }
 ],
 "metadata": {
  "kernelspec": {
   "display_name": "Python 3",
   "language": "python",
   "name": "python3"
  },
  "language_info": {
   "codemirror_mode": {
    "name": "ipython",
    "version": 3
   },
   "file_extension": ".py",
   "mimetype": "text/x-python",
   "name": "python",
   "nbconvert_exporter": "python",
   "pygments_lexer": "ipython3",
   "version": "3.6.3"
  }
 },
 "nbformat": 4,
 "nbformat_minor": 2
}
